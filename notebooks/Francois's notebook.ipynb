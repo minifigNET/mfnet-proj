{
 "cells": [
  {
   "cell_type": "code",
   "execution_count": 1,
   "metadata": {},
   "outputs": [],
   "source": [
    "import pandas as pd\n",
    "import numpy as np\n",
    "from PIL import Image\n",
    "import matplotlib.pyplot as plt\n",
    "import os"
   ]
  },
  {
   "cell_type": "code",
   "execution_count": 2,
   "metadata": {},
   "outputs": [
    {
     "data": {
      "text/html": [
       "<div>\n",
       "<style scoped>\n",
       "    .dataframe tbody tr th:only-of-type {\n",
       "        vertical-align: middle;\n",
       "    }\n",
       "\n",
       "    .dataframe tbody tr th {\n",
       "        vertical-align: top;\n",
       "    }\n",
       "\n",
       "    .dataframe thead th {\n",
       "        text-align: right;\n",
       "    }\n",
       "</style>\n",
       "<table border=\"1\" class=\"dataframe\">\n",
       "  <thead>\n",
       "    <tr style=\"text-align: right;\">\n",
       "      <th></th>\n",
       "      <th>lego_ids</th>\n",
       "      <th>lego_names</th>\n",
       "      <th>minifigure_name</th>\n",
       "    </tr>\n",
       "    <tr>\n",
       "      <th>class_id</th>\n",
       "      <th></th>\n",
       "      <th></th>\n",
       "      <th></th>\n",
       "    </tr>\n",
       "  </thead>\n",
       "  <tbody>\n",
       "    <tr>\n",
       "      <th>1</th>\n",
       "      <td>[76115]</td>\n",
       "      <td>['Spider Mech vs. Venom']</td>\n",
       "      <td>SPIDER-MAN</td>\n",
       "    </tr>\n",
       "    <tr>\n",
       "      <th>2</th>\n",
       "      <td>[76115]</td>\n",
       "      <td>['Spider Mech vs. Venom']</td>\n",
       "      <td>VENOM</td>\n",
       "    </tr>\n",
       "    <tr>\n",
       "      <th>3</th>\n",
       "      <td>[76115]</td>\n",
       "      <td>['Spider Mech vs. Venom']</td>\n",
       "      <td>AUNT MAY</td>\n",
       "    </tr>\n",
       "    <tr>\n",
       "      <th>4</th>\n",
       "      <td>[76115]</td>\n",
       "      <td>['Spider Mech vs. Venom']</td>\n",
       "      <td>GHOST SPIDER</td>\n",
       "    </tr>\n",
       "    <tr>\n",
       "      <th>5</th>\n",
       "      <td>[75208]</td>\n",
       "      <td>[\"Yoda's Hut\"]</td>\n",
       "      <td>YODA</td>\n",
       "    </tr>\n",
       "  </tbody>\n",
       "</table>\n",
       "</div>"
      ],
      "text/plain": [
       "         lego_ids                 lego_names minifigure_name\n",
       "class_id                                                    \n",
       "1         [76115]  ['Spider Mech vs. Venom']      SPIDER-MAN\n",
       "2         [76115]  ['Spider Mech vs. Venom']           VENOM\n",
       "3         [76115]  ['Spider Mech vs. Venom']        AUNT MAY\n",
       "4         [76115]  ['Spider Mech vs. Venom']    GHOST SPIDER\n",
       "5         [75208]             [\"Yoda's Hut\"]            YODA"
      ]
     },
     "execution_count": 2,
     "metadata": {},
     "output_type": "execute_result"
    }
   ],
   "source": [
    "cwr = os.getcwd().strip('/notebooks')\n",
    "index = pd.read_csv(f'/{cwr}/raw_data/index.csv')\n",
    "metadata = pd.read_csv(f'/{cwr}/raw_data/metadata.csv',index_col='class_id')\n",
    "test = pd.read_csv(f'/{cwr}/raw_data/test.csv')\n",
    "metadata.head()"
   ]
  },
  {
   "cell_type": "code",
   "execution_count": 3,
   "metadata": {},
   "outputs": [
    {
     "data": {
      "text/plain": [
       "((371, 224, 224, 3), (79, 224, 224, 3))"
      ]
     },
     "execution_count": 3,
     "metadata": {},
     "output_type": "execute_result"
    }
   ],
   "source": [
    "images = []\n",
    "tests = []\n",
    "for path in index['path']:\n",
    "    image = np.asarray(Image.open(f'/{cwr}/raw_data/{path}')\\\n",
    "        .resize((224, 224))\n",
    "        )\n",
    "    images.append(image)\n",
    "for path in test['path']:\n",
    "    image = np.asarray(Image.open(f'/{cwr}/raw_data/{path}')\\\n",
    "        .resize((224, 224))\n",
    "        )\n",
    "    tests.append(image)\n",
    "images = np.stack(images,axis=0)\n",
    "tests = np.stack(tests,axis=0)\n",
    "images.shape, tests.shape"
   ]
  },
  {
   "cell_type": "code",
   "execution_count": 4,
   "metadata": {},
   "outputs": [],
   "source": [
    "X_train = images\n",
    "X_test = tests"
   ]
  },
  {
   "cell_type": "code",
   "execution_count": 5,
   "metadata": {},
   "outputs": [],
   "source": [
    "y_train = np.array(index['class_id'])-1\n",
    "y_test = np.array(test['class_id'])-1"
   ]
  },
  {
   "cell_type": "code",
   "execution_count": 6,
   "metadata": {},
   "outputs": [
    {
     "name": "stderr",
     "output_type": "stream",
     "text": [
      "2023-12-11 11:56:00.212883: I tensorflow/core/platform/cpu_feature_guard.cc:193] This TensorFlow binary is optimized with oneAPI Deep Neural Network Library (oneDNN) to use the following CPU instructions in performance-critical operations:  AVX2 FMA\n",
      "To enable them in other operations, rebuild TensorFlow with the appropriate compiler flags.\n",
      "2023-12-11 11:56:00.360271: E tensorflow/stream_executor/cuda/cuda_blas.cc:2981] Unable to register cuBLAS factory: Attempting to register factory for plugin cuBLAS when one has already been registered\n",
      "2023-12-11 11:56:01.004570: W tensorflow/stream_executor/platform/default/dso_loader.cc:64] Could not load dynamic library 'libnvinfer.so.7'; dlerror: libnvinfer.so.7: cannot open shared object file: No such file or directory; LD_LIBRARY_PATH: /home/francois/.pyenv/versions/3.10.6/envs/lewagon/lib/python3.10/site-packages/tensorrt\n",
      "2023-12-11 11:56:01.004642: W tensorflow/stream_executor/platform/default/dso_loader.cc:64] Could not load dynamic library 'libnvinfer_plugin.so.7'; dlerror: libnvinfer_plugin.so.7: cannot open shared object file: No such file or directory; LD_LIBRARY_PATH: /home/francois/.pyenv/versions/3.10.6/envs/lewagon/lib/python3.10/site-packages/tensorrt\n",
      "2023-12-11 11:56:01.004647: W tensorflow/compiler/tf2tensorrt/utils/py_utils.cc:38] TF-TRT Warning: Cannot dlopen some TensorRT libraries. If you would like to use Nvidia GPU with TensorRT, please make sure the missing libraries mentioned above are installed properly.\n"
     ]
    }
   ],
   "source": [
    "from tensorflow.keras.applications.densenet import DenseNet201\n",
    "from tensorflow.keras import layers, models\n",
    "\n",
    "def create_model(input_shape):\n",
    "\n",
    "    base_model = DenseNet201(input_shape = input_shape,\n",
    "                       include_top = False,\n",
    "                       weights = 'imagenet',\n",
    "                       classifier_activation='softmax')\n",
    "\n",
    "    for layer in base_model.layers:\n",
    "        layer.trainable = False\n",
    "\n",
    "    x = base_model.output\n",
    "    x = layers.Flatten()(x)\n",
    "    # x = layers.Dense(224, activation = 'relu')(x)\n",
    "    x = layers.Dropout(0.5)(x)\n",
    "    x = layers.Dense(38, activation = 'softmax')(x)\n",
    "\n",
    "    return models.Model(base_model.input,x)"
   ]
  },
  {
   "cell_type": "code",
   "execution_count": 7,
   "metadata": {},
   "outputs": [],
   "source": [
    "from tensorflow.keras.preprocessing.image import ImageDataGenerator\n",
    "\n",
    "train_datagen = ImageDataGenerator(\n",
    "    rescale = 1./255,\n",
    "    featurewise_center = False,\n",
    "    featurewise_std_normalization = False,\n",
    "    rotation_range = 10,\n",
    "    width_shift_range = 0.1,\n",
    "    height_shift_range = 0.1,\n",
    "    horizontal_flip = True,\n",
    "    zoom_range = (0.8, 1.2),\n",
    "    )\n",
    "\n",
    "test_datagen = ImageDataGenerator(\n",
    "    rescale = 1./255\n",
    ")"
   ]
  },
  {
   "cell_type": "code",
   "execution_count": 8,
   "metadata": {},
   "outputs": [],
   "source": [
    "train_flow = train_datagen.flow(X_train, y_train, batch_size = 16)\n",
    "valid_flow = test_datagen.flow(X_test, y_test, batch_size = 1)"
   ]
  },
  {
   "cell_type": "code",
   "execution_count": 9,
   "metadata": {},
   "outputs": [
    {
     "name": "stderr",
     "output_type": "stream",
     "text": [
      "2023-12-11 11:56:02.014868: I tensorflow/stream_executor/cuda/cuda_gpu_executor.cc:966] could not open file to read NUMA node: /sys/bus/pci/devices/0000:01:00.0/numa_node\n",
      "Your kernel may have been built without NUMA support.\n",
      "2023-12-11 11:56:02.021304: I tensorflow/stream_executor/cuda/cuda_gpu_executor.cc:966] could not open file to read NUMA node: /sys/bus/pci/devices/0000:01:00.0/numa_node\n",
      "Your kernel may have been built without NUMA support.\n",
      "2023-12-11 11:56:02.021362: I tensorflow/stream_executor/cuda/cuda_gpu_executor.cc:966] could not open file to read NUMA node: /sys/bus/pci/devices/0000:01:00.0/numa_node\n",
      "Your kernel may have been built without NUMA support.\n",
      "2023-12-11 11:56:02.021770: I tensorflow/core/platform/cpu_feature_guard.cc:193] This TensorFlow binary is optimized with oneAPI Deep Neural Network Library (oneDNN) to use the following CPU instructions in performance-critical operations:  AVX2 FMA\n",
      "To enable them in other operations, rebuild TensorFlow with the appropriate compiler flags.\n",
      "2023-12-11 11:56:02.023287: I tensorflow/stream_executor/cuda/cuda_gpu_executor.cc:966] could not open file to read NUMA node: /sys/bus/pci/devices/0000:01:00.0/numa_node\n",
      "Your kernel may have been built without NUMA support.\n",
      "2023-12-11 11:56:02.023332: I tensorflow/stream_executor/cuda/cuda_gpu_executor.cc:966] could not open file to read NUMA node: /sys/bus/pci/devices/0000:01:00.0/numa_node\n",
      "Your kernel may have been built without NUMA support.\n",
      "2023-12-11 11:56:02.023361: I tensorflow/stream_executor/cuda/cuda_gpu_executor.cc:966] could not open file to read NUMA node: /sys/bus/pci/devices/0000:01:00.0/numa_node\n",
      "Your kernel may have been built without NUMA support.\n",
      "2023-12-11 11:56:02.792182: I tensorflow/stream_executor/cuda/cuda_gpu_executor.cc:966] could not open file to read NUMA node: /sys/bus/pci/devices/0000:01:00.0/numa_node\n",
      "Your kernel may have been built without NUMA support.\n",
      "2023-12-11 11:56:02.792260: I tensorflow/stream_executor/cuda/cuda_gpu_executor.cc:966] could not open file to read NUMA node: /sys/bus/pci/devices/0000:01:00.0/numa_node\n",
      "Your kernel may have been built without NUMA support.\n",
      "2023-12-11 11:56:02.792268: I tensorflow/core/common_runtime/gpu/gpu_device.cc:1700] Could not identify NUMA node of platform GPU id 0, defaulting to 0.  Your kernel may not have been built with NUMA support.\n",
      "2023-12-11 11:56:02.792308: I tensorflow/stream_executor/cuda/cuda_gpu_executor.cc:966] could not open file to read NUMA node: /sys/bus/pci/devices/0000:01:00.0/numa_node\n",
      "Your kernel may have been built without NUMA support.\n",
      "2023-12-11 11:56:02.792344: I tensorflow/core/common_runtime/gpu/gpu_device.cc:1616] Created device /job:localhost/replica:0/task:0/device:GPU:0 with 3432 MB memory:  -> device: 0, name: NVIDIA GeForce RTX 3060 Laptop GPU, pci bus id: 0000:01:00.0, compute capability: 8.6\n"
     ]
    },
    {
     "name": "stdout",
     "output_type": "stream",
     "text": [
      "Epoch 1/100\n"
     ]
    },
    {
     "name": "stderr",
     "output_type": "stream",
     "text": [
      "2023-12-11 11:56:18.287099: I tensorflow/stream_executor/cuda/cuda_dnn.cc:384] Loaded cuDNN version 8101\n"
     ]
    },
    {
     "name": "stdout",
     "output_type": "stream",
     "text": [
      " 1/24 [>.............................] - ETA: 4:33 - loss: 5.5346 - accuracy: 0.0000e+00"
     ]
    },
    {
     "name": "stderr",
     "output_type": "stream",
     "text": [
      "2023-12-11 11:56:19.981323: I tensorflow/stream_executor/cuda/cuda_blas.cc:1614] TensorFloat-32 will be used for the matrix multiplication. This will only be logged once.\n"
     ]
    },
    {
     "name": "stdout",
     "output_type": "stream",
     "text": [
      "24/24 [==============================] - 23s 465ms/step - loss: 16.9135 - accuracy: 0.2022 - val_loss: 11.9734 - val_accuracy: 0.3291 - lr: 0.0010\n",
      "Epoch 2/100\n",
      "24/24 [==============================] - 8s 329ms/step - loss: 2.7811 - accuracy: 0.6873 - val_loss: 7.1674 - val_accuracy: 0.5190 - lr: 0.0010\n",
      "Epoch 3/100\n",
      "24/24 [==============================] - 8s 322ms/step - loss: 1.5210 - accuracy: 0.8410 - val_loss: 4.9745 - val_accuracy: 0.6456 - lr: 0.0010\n",
      "Epoch 4/100\n",
      "24/24 [==============================] - 8s 319ms/step - loss: 0.6044 - accuracy: 0.9003 - val_loss: 3.7328 - val_accuracy: 0.6709 - lr: 0.0010\n",
      "Epoch 5/100\n",
      "24/24 [==============================] - 7s 306ms/step - loss: 0.5534 - accuracy: 0.9218 - val_loss: 5.3612 - val_accuracy: 0.6582 - lr: 0.0010\n",
      "Epoch 6/100\n",
      "24/24 [==============================] - 7s 305ms/step - loss: 0.5689 - accuracy: 0.9299 - val_loss: 4.2377 - val_accuracy: 0.6835 - lr: 0.0010\n",
      "Epoch 7/100\n",
      "24/24 [==============================] - 8s 328ms/step - loss: 0.5358 - accuracy: 0.9218 - val_loss: 4.1952 - val_accuracy: 0.6582 - lr: 0.0010\n",
      "Epoch 8/100\n",
      "24/24 [==============================] - 8s 329ms/step - loss: 0.4513 - accuracy: 0.9515 - val_loss: 2.0627 - val_accuracy: 0.7595 - lr: 2.0000e-04\n",
      "Epoch 9/100\n",
      "24/24 [==============================] - 8s 330ms/step - loss: 0.0370 - accuracy: 0.9919 - val_loss: 2.0404 - val_accuracy: 0.7722 - lr: 2.0000e-04\n",
      "Epoch 10/100\n",
      "24/24 [==============================] - 8s 317ms/step - loss: 0.0435 - accuracy: 0.9892 - val_loss: 2.1800 - val_accuracy: 0.7722 - lr: 2.0000e-04\n",
      "Epoch 11/100\n",
      "24/24 [==============================] - 7s 305ms/step - loss: 0.0188 - accuracy: 0.9946 - val_loss: 2.4592 - val_accuracy: 0.7595 - lr: 2.0000e-04\n",
      "Epoch 12/100\n",
      "24/24 [==============================] - 7s 309ms/step - loss: 0.0301 - accuracy: 0.9892 - val_loss: 2.5409 - val_accuracy: 0.7468 - lr: 2.0000e-04\n",
      "Epoch 13/100\n",
      "24/24 [==============================] - 7s 311ms/step - loss: 0.0804 - accuracy: 0.9811 - val_loss: 2.4508 - val_accuracy: 0.7468 - lr: 4.0000e-05\n",
      "Epoch 14/100\n",
      "24/24 [==============================] - 7s 307ms/step - loss: 0.0216 - accuracy: 0.9946 - val_loss: 2.4030 - val_accuracy: 0.7595 - lr: 4.0000e-05\n",
      "Epoch 15/100\n",
      "24/24 [==============================] - 8s 322ms/step - loss: 0.0024 - accuracy: 1.0000 - val_loss: 2.3902 - val_accuracy: 0.7595 - lr: 4.0000e-05\n"
     ]
    }
   ],
   "source": [
    "from tensorflow.keras.callbacks import EarlyStopping,ReduceLROnPlateau\n",
    "import tensorflow as tf\n",
    "from tensorflow.keras.optimizers import Adam\n",
    "\n",
    "model = create_model((224,224,3))\n",
    "model.compile(loss = 'sparse_categorical_crossentropy',\n",
    "             optimizer = Adam(learning_rate=0.001),\n",
    "             metrics = ['accuracy'])\n",
    "es = EarlyStopping(monitor = 'val_loss',\n",
    "                               patience = 6,\n",
    "                               mode = 'min',\n",
    "                               restore_best_weights = True)\n",
    "reduce_lr = ReduceLROnPlateau(monitor='val_loss', factor=0.2,\n",
    "                              patience=3,\n",
    "                              min_lr=0.00001)\n",
    "with tf.device('/GPU:0'):\n",
    "    history = model.fit(\n",
    "        train_flow,\n",
    "        validation_data = valid_flow,\n",
    "        epochs = 100,\n",
    "        verbose=1,\n",
    "        callbacks = [es,reduce_lr]\n",
    "        )"
   ]
  },
  {
   "cell_type": "code",
   "execution_count": 10,
   "metadata": {},
   "outputs": [
    {
     "name": "stdout",
     "output_type": "stream",
     "text": [
      "79/79 [==============================] - 5s 64ms/step - loss: 2.0404 - accuracy: 0.7722\n"
     ]
    },
    {
     "data": {
      "text/plain": [
       "[2.0403800010681152, 0.7721518874168396]"
      ]
     },
     "execution_count": 10,
     "metadata": {},
     "output_type": "execute_result"
    }
   ],
   "source": [
    "model.evaluate(valid_flow)"
   ]
  },
  {
   "cell_type": "code",
   "execution_count": 11,
   "metadata": {},
   "outputs": [],
   "source": [
    "def plot_history(history, title='', axs=None, exp_name=\"\"):\n",
    "    if axs is not None:\n",
    "        ax1, ax2 = axs\n",
    "    else:\n",
    "        f, (ax1, ax2) = plt.subplots(1, 2, figsize=(12, 4))\n",
    "\n",
    "    if len(exp_name) > 0 and exp_name[0] != '_':\n",
    "        exp_name = '_' + exp_name\n",
    "    ax1.plot(history.history['loss'], label = 'train' + exp_name)\n",
    "    ax1.plot(history.history['val_loss'], label = 'val' + exp_name)\n",
    "    # ax1.set_ylim(0., 2.2)\n",
    "    ax1.set_title('loss')\n",
    "    ax1.legend()\n",
    "\n",
    "    ax2.plot(history.history['accuracy'], label='train accuracy'  + exp_name)\n",
    "    ax2.plot(history.history['val_accuracy'], label='val accuracy'  + exp_name)\n",
    "    # ax2.set_ylim(0.25, 1.)\n",
    "    ax2.set_title('Accuracy')\n",
    "    ax2.legend()\n",
    "    return (ax1, ax2)"
   ]
  },
  {
   "cell_type": "code",
   "execution_count": 12,
   "metadata": {},
   "outputs": [
    {
     "data": {
      "text/plain": [
       "(<AxesSubplot:title={'center':'loss'}>,\n",
       " <AxesSubplot:title={'center':'Accuracy'}>)"
      ]
     },
     "execution_count": 12,
     "metadata": {},
     "output_type": "execute_result"
    },
    {
     "data": {
      "image/png": "[encoded data removed]",
      "text/plain": [
       "<Figure size 1200x400 with 2 Axes>"
      ]
     },
     "metadata": {},
     "output_type": "display_data"
    }
   ],
   "source": [
    "plot_history(history, title='small dataset', axs=None, exp_name=\"\")"
   ]
  },
  {
   "cell_type": "code",
   "execution_count": 15,
   "metadata": {},
   "outputs": [
    {
     "data": {
      "text/plain": [
       "(2, 224, 224, 3)"
      ]
     },
     "execution_count": 15,
     "metadata": {},
     "output_type": "execute_result"
    }
   ],
   "source": [
    "X_pred_1 = np.asarray(Image.open(f'/{cwr}/raw_data/test/001.jpg').resize((224, 224)))\n",
    "X_pred_2 = np.asarray(Image.open(f'/{cwr}/raw_data/test/006.jpg').resize((224, 224)))\n",
    "preds = np.stack((X_pred_1,X_pred_2),axis=0) / 255\n",
    "preds.shape"
   ]
  },
  {
   "cell_type": "code",
   "execution_count": 16,
   "metadata": {},
   "outputs": [
    {
     "name": "stdout",
     "output_type": "stream",
     "text": [
      "1/1 [==============================] - 0s 110ms/step\n"
     ]
    },
    {
     "data": {
      "text/plain": [
       "((31, 0.99999976), (36, 0.9999485))"
      ]
     },
     "execution_count": 16,
     "metadata": {},
     "output_type": "execute_result"
    }
   ],
   "source": [
    "prediction = model.predict(preds)\n",
    "(np.argmax(prediction[0]),prediction[0,np.argmax(prediction[0])]),(np.argmax(prediction[1]),prediction[1,np.argmax(prediction[1])])"
   ]
  }
 ],
 "metadata": {
  "kernelspec": {
   "display_name": "lewagon",
   "language": "python",
   "name": "python3"
  },
  "language_info": {
   "codemirror_mode": {
    "name": "ipython",
    "version": 3
   },
   "file_extension": ".py",
   "mimetype": "text/x-python",
   "name": "python",
   "nbconvert_exporter": "python",
   "pygments_lexer": "ipython3",
   "version": "3.10.6"
  }
 },
 "nbformat": 4,
 "nbformat_minor": 2
}
