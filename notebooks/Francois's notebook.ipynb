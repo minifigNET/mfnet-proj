{
 "cells": [
  {
   "cell_type": "code",
   "execution_count": 2,
   "metadata": {},
   "outputs": [],
   "source": [
    "import pandas as pd\n",
    "import numpy as np\n",
    "from PIL import Image\n",
    "import matplotlib.pyplot as plt\n",
    "import os"
   ]
  },
  {
   "cell_type": "markdown",
   "metadata": {},
   "source": [
    "# 1 - Data import"
   ]
  },
  {
   "cell_type": "code",
   "execution_count": 3,
   "metadata": {},
   "outputs": [
    {
     "data": {
      "text/html": [
       "<div>\n",
       "<style scoped>\n",
       "    .dataframe tbody tr th:only-of-type {\n",
       "        vertical-align: middle;\n",
       "    }\n",
       "\n",
       "    .dataframe tbody tr th {\n",
       "        vertical-align: top;\n",
       "    }\n",
       "\n",
       "    .dataframe thead th {\n",
       "        text-align: right;\n",
       "    }\n",
       "</style>\n",
       "<table border=\"1\" class=\"dataframe\">\n",
       "  <thead>\n",
       "    <tr style=\"text-align: right;\">\n",
       "      <th></th>\n",
       "      <th>lego_ids</th>\n",
       "      <th>lego_names</th>\n",
       "      <th>minifigure_name</th>\n",
       "    </tr>\n",
       "    <tr>\n",
       "      <th>class_id</th>\n",
       "      <th></th>\n",
       "      <th></th>\n",
       "      <th></th>\n",
       "    </tr>\n",
       "  </thead>\n",
       "  <tbody>\n",
       "    <tr>\n",
       "      <th>1</th>\n",
       "      <td>[76115]</td>\n",
       "      <td>['Spider Mech vs. Venom']</td>\n",
       "      <td>SPIDER-MAN</td>\n",
       "    </tr>\n",
       "    <tr>\n",
       "      <th>2</th>\n",
       "      <td>[76115]</td>\n",
       "      <td>['Spider Mech vs. Venom']</td>\n",
       "      <td>VENOM</td>\n",
       "    </tr>\n",
       "    <tr>\n",
       "      <th>3</th>\n",
       "      <td>[76115]</td>\n",
       "      <td>['Spider Mech vs. Venom']</td>\n",
       "      <td>AUNT MAY</td>\n",
       "    </tr>\n",
       "    <tr>\n",
       "      <th>4</th>\n",
       "      <td>[76115]</td>\n",
       "      <td>['Spider Mech vs. Venom']</td>\n",
       "      <td>GHOST SPIDER</td>\n",
       "    </tr>\n",
       "    <tr>\n",
       "      <th>5</th>\n",
       "      <td>[75208]</td>\n",
       "      <td>[\"Yoda's Hut\"]</td>\n",
       "      <td>YODA</td>\n",
       "    </tr>\n",
       "  </tbody>\n",
       "</table>\n",
       "</div>"
      ],
      "text/plain": [
       "         lego_ids                 lego_names minifigure_name\n",
       "class_id                                                    \n",
       "1         [76115]  ['Spider Mech vs. Venom']      SPIDER-MAN\n",
       "2         [76115]  ['Spider Mech vs. Venom']           VENOM\n",
       "3         [76115]  ['Spider Mech vs. Venom']        AUNT MAY\n",
       "4         [76115]  ['Spider Mech vs. Venom']    GHOST SPIDER\n",
       "5         [75208]             [\"Yoda's Hut\"]            YODA"
      ]
     },
     "execution_count": 3,
     "metadata": {},
     "output_type": "execute_result"
    }
   ],
   "source": [
    "cwr = os.getcwd().strip('/notebooks')\n",
    "index = pd.read_csv(f'/{cwr}/raw_data/index.csv')\n",
    "metadata = pd.read_csv(f'/{cwr}/raw_data/metadata.csv',index_col='class_id')\n",
    "test = pd.read_csv(f'/{cwr}/raw_data/test.csv')\n",
    "metadata.head()"
   ]
  },
  {
   "cell_type": "code",
   "execution_count": 4,
   "metadata": {},
   "outputs": [
    {
     "data": {
      "text/plain": [
       "((371, 224, 224, 3), (79, 224, 224, 3))"
      ]
     },
     "execution_count": 4,
     "metadata": {},
     "output_type": "execute_result"
    }
   ],
   "source": [
    "images = []\n",
    "tests = []\n",
    "for path in index['path']:\n",
    "    image = np.asarray(Image.open(f'/{cwr}/raw_data/{path}')\\\n",
    "        .resize((224, 224))\n",
    "        )\n",
    "    images.append(image)\n",
    "for path in test['path']:\n",
    "    image = np.asarray(Image.open(f'/{cwr}/raw_data/{path}')\\\n",
    "        .resize((224, 224))\n",
    "        )\n",
    "    tests.append(image)\n",
    "images = np.stack(images,axis=0)\n",
    "tests = np.stack(tests,axis=0)\n",
    "images.shape, tests.shape"
   ]
  },
  {
   "cell_type": "code",
   "execution_count": 5,
   "metadata": {},
   "outputs": [],
   "source": [
    "X_train = images\n",
    "X_test = tests"
   ]
  },
  {
   "cell_type": "code",
   "execution_count": 6,
   "metadata": {},
   "outputs": [],
   "source": [
    "y_train = np.array(index['class_id'])-1\n",
    "y_test = np.array(test['class_id'])-1"
   ]
  },
  {
   "cell_type": "markdown",
   "metadata": {},
   "source": [
    "# 2 - Data augmentation"
   ]
  },
  {
   "cell_type": "code",
   "execution_count": 7,
   "metadata": {},
   "outputs": [],
   "source": [
    "from tensorflow.keras.preprocessing.image import ImageDataGenerator\n",
    "\n",
    "train_datagen = ImageDataGenerator(\n",
    "    rescale = 1./255,\n",
    "    featurewise_center = False,\n",
    "    featurewise_std_normalization = False,\n",
    "    rotation_range = 10,\n",
    "    width_shift_range = 0.1,\n",
    "    height_shift_range = 0.1,\n",
    "    horizontal_flip = True,\n",
    "    zoom_range = (0.8, 1.2),\n",
    "    )\n",
    "\n",
    "test_datagen = ImageDataGenerator(\n",
    "    rescale = 1./255\n",
    ")"
   ]
  },
  {
   "cell_type": "code",
   "execution_count": 8,
   "metadata": {},
   "outputs": [],
   "source": [
    "train_flow = train_datagen.flow(X_train, y_train, batch_size = 16)\n",
    "valid_flow = test_datagen.flow(X_test, y_test, batch_size = 1)"
   ]
  },
  {
   "cell_type": "markdown",
   "metadata": {},
   "source": [
    "# 3 - Best Transfer learning model"
   ]
  },
  {
   "cell_type": "markdown",
   "metadata": {},
   "source": [
    "### Function to create the transfer learning so we can loop over it with different models"
   ]
  },
  {
   "cell_type": "code",
   "execution_count": 9,
   "metadata": {},
   "outputs": [],
   "source": [
    "from tensorflow.keras.applications.densenet import DenseNet201\n",
    "from tensorflow.keras.applications.resnet import ResNet101,ResNet152,ResNet50\n",
    "from tensorflow.keras.applications.vgg16 import VGG16\n",
    "from tensorflow.keras.applications.vgg19 import VGG19\n",
    "from tensorflow.keras.applications.efficientnet_v2 import EfficientNetV2B0,EfficientNetV2B1,EfficientNetV2B2,EfficientNetV2B3,EfficientNetV2L,EfficientNetV2M,EfficientNetV2S\n",
    "from tensorflow.keras import layers, models as keras_models\n",
    "\n",
    "def create_model(input_shape=(224,224,3),nb_labels=38,app=DenseNet201): #Function to create a transfer learning model, we can chose number of labels and the base model\n",
    "\n",
    "    base_model = app(input_shape = input_shape,\n",
    "                       include_top = False,\n",
    "                       weights = 'imagenet',\n",
    "                       classifier_activation='softmax')\n",
    "\n",
    "    for layer in base_model.layers:\n",
    "        layer.trainable = False\n",
    "\n",
    "    x = base_model.output\n",
    "    x = layers.Flatten()(x)\n",
    "    # x = layers.Dense(224, activation = 'relu')(x)\n",
    "    x = layers.Dropout(0.5)(x)\n",
    "    x = layers.Dense(nb_labels, activation = 'softmax')(x)\n",
    "\n",
    "    return keras_models.Model(base_model.input,x)\n"
   ]
  },
  {
   "cell_type": "markdown",
   "metadata": {},
   "source": [
    "### Let's loop"
   ]
  },
  {
   "cell_type": "code",
   "execution_count": 14,
   "metadata": {},
   "outputs": [
    {
     "name": "stdout",
     "output_type": "stream",
     "text": [
      "Accuracy of model <function DenseNet201 at 0x7f88a63eaf80> :     0.7848101258277893\n",
      "Accuracy of model <function ResNet101 at 0x7f88a6216b00> :     0.2278480976819992\n",
      "Downloading data from https://storage.googleapis.com/tensorflow/keras-applications/resnet/resnet152_weights_tf_dim_ordering_tf_kernels_notop.h5\n",
      "234698864/234698864 [==============================] - 52s 0us/step\n",
      "Accuracy of model <function ResNet152 at 0x7f88a6216b90> :     0.13924050331115723\n",
      "Downloading data from https://storage.googleapis.com/tensorflow/keras-applications/resnet/resnet50_weights_tf_dim_ordering_tf_kernels_notop.h5\n",
      "94765736/94765736 [==============================] - 21s 0us/step\n",
      "Accuracy of model <function ResNet50 at 0x7f88a6216a70> :     0.18987341225147247\n"
     ]
    },
    {
     "name": "stderr",
     "output_type": "stream",
     "text": [
      "2023-12-12 10:00:55.085166: W tensorflow/core/common_runtime/bfc_allocator.cc:290] Allocator (GPU_0_bfc) ran out of memory trying to allocate 1.74GiB with freed_by_count=0. The caller indicates that this is not a failure, but this may mean that there could be performance gains if more memory were available.\n",
      "2023-12-12 10:00:55.085217: W tensorflow/core/common_runtime/bfc_allocator.cc:290] Allocator (GPU_0_bfc) ran out of memory trying to allocate 1.74GiB with freed_by_count=0. The caller indicates that this is not a failure, but this may mean that there could be performance gains if more memory were available.\n",
      "2023-12-12 10:00:55.085225: W tensorflow/core/common_runtime/bfc_allocator.cc:290] Allocator (GPU_0_bfc) ran out of memory trying to allocate 2.54GiB with freed_by_count=0. The caller indicates that this is not a failure, but this may mean that there could be performance gains if more memory were available.\n",
      "2023-12-12 10:00:55.085230: W tensorflow/core/common_runtime/bfc_allocator.cc:290] Allocator (GPU_0_bfc) ran out of memory trying to allocate 2.54GiB with freed_by_count=0. The caller indicates that this is not a failure, but this may mean that there could be performance gains if more memory were available.\n",
      "2023-12-12 10:00:55.727773: W tensorflow/core/common_runtime/bfc_allocator.cc:290] Allocator (GPU_0_bfc) ran out of memory trying to allocate 2.30GiB with freed_by_count=0. The caller indicates that this is not a failure, but this may mean that there could be performance gains if more memory were available.\n",
      "2023-12-12 10:00:55.727824: W tensorflow/core/common_runtime/bfc_allocator.cc:290] Allocator (GPU_0_bfc) ran out of memory trying to allocate 2.30GiB with freed_by_count=0. The caller indicates that this is not a failure, but this may mean that there could be performance gains if more memory were available.\n",
      "2023-12-12 10:00:56.364342: W tensorflow/core/common_runtime/bfc_allocator.cc:290] Allocator (GPU_0_bfc) ran out of memory trying to allocate 2.21GiB with freed_by_count=0. The caller indicates that this is not a failure, but this may mean that there could be performance gains if more memory were available.\n",
      "2023-12-12 10:00:56.364399: W tensorflow/core/common_runtime/bfc_allocator.cc:290] Allocator (GPU_0_bfc) ran out of memory trying to allocate 2.21GiB with freed_by_count=0. The caller indicates that this is not a failure, but this may mean that there could be performance gains if more memory were available.\n",
      "2023-12-12 10:00:57.032773: W tensorflow/core/common_runtime/bfc_allocator.cc:290] Allocator (GPU_0_bfc) ran out of memory trying to allocate 2.22GiB with freed_by_count=0. The caller indicates that this is not a failure, but this may mean that there could be performance gains if more memory were available.\n",
      "2023-12-12 10:00:57.032840: W tensorflow/core/common_runtime/bfc_allocator.cc:290] Allocator (GPU_0_bfc) ran out of memory trying to allocate 2.22GiB with freed_by_count=0. The caller indicates that this is not a failure, but this may mean that there could be performance gains if more memory were available.\n"
     ]
    },
    {
     "name": "stdout",
     "output_type": "stream",
     "text": [
      "Accuracy of model <function VGG16 at 0x7f88a6217c70> :     0.746835470199585\n",
      "Accuracy of model <function VGG19 at 0x7f88a6217eb0> :     0.6962025165557861\n",
      "Accuracy of model <function EfficientNetV2B0 at 0x7f88a63ebd00> :     0.06329113990068436\n",
      "Downloading data from https://storage.googleapis.com/tensorflow/keras-applications/efficientnet_v2/efficientnetv2-b1_notop.h5\n",
      "28456008/28456008 [==============================] - 6s 0us/step\n",
      "Accuracy of model <function EfficientNetV2B1 at 0x7f88a63ebd90> :     0.050632912665605545\n",
      "Downloading data from https://storage.googleapis.com/tensorflow/keras-applications/efficientnet_v2/efficientnetv2-b2_notop.h5\n",
      "35839040/35839040 [==============================] - 8s 0us/step\n",
      "Accuracy of model <function EfficientNetV2B2 at 0x7f88a63ebe20> :     0.06329113990068436\n",
      "Downloading data from https://storage.googleapis.com/tensorflow/keras-applications/efficientnet_v2/efficientnetv2-b3_notop.h5\n",
      "52606240/52606240 [==============================] - 12s 0us/step\n",
      "Accuracy of model <function EfficientNetV2B3 at 0x7f88a63ebeb0> :     0.06329113990068436\n",
      "Downloading data from https://storage.googleapis.com/tensorflow/keras-applications/efficientnet_v2/efficientnetv2-l_notop.h5\n",
      "473176280/473176280 [==============================] - 104s 0us/step\n",
      "Accuracy of model <function EfficientNetV2L at 0x7f88a62140d0> :     0.08860759437084198\n",
      "Downloading data from https://storage.googleapis.com/tensorflow/keras-applications/efficientnet_v2/efficientnetv2-m_notop.h5\n",
      "214201816/214201816 [==============================] - 48s 0us/step\n",
      "Accuracy of model <function EfficientNetV2M at 0x7f88a6214040> :     0.050632912665605545\n",
      "Downloading data from https://storage.googleapis.com/tensorflow/keras-applications/efficientnet_v2/efficientnetv2-s_notop.h5\n",
      "82420632/82420632 [==============================] - 18s 0us/step\n",
      "Accuracy of model <function EfficientNetV2S at 0x7f88a63ebf40> :     0.08860759437084198\n"
     ]
    }
   ],
   "source": [
    "#Let's try many different models to see which one performs the best\n",
    "from tensorflow.keras.callbacks import EarlyStopping,ReduceLROnPlateau\n",
    "import tensorflow as tf\n",
    "from tensorflow.keras.optimizers import Adam\n",
    "list_models = [DenseNet201,ResNet101,ResNet152,ResNet50,VGG16,VGG19,EfficientNetV2B0,EfficientNetV2B1,EfficientNetV2B2,EfficientNetV2B3,EfficientNetV2L,EfficientNetV2M,EfficientNetV2S]\n",
    "es = EarlyStopping(monitor = 'val_accuracy',\n",
    "                               patience = 10,\n",
    "                               mode = 'max',\n",
    "                               restore_best_weights = True)\n",
    "reduce_lr = ReduceLROnPlateau(monitor='val_accuracy', factor=0.2,\n",
    "                              patience=3,\n",
    "                              min_lr=0.00001)\n",
    "results = []\n",
    "for m in list_models:\n",
    "    model = create_model(app=m)\n",
    "    model.compile(loss = 'sparse_categorical_crossentropy',\n",
    "             optimizer = Adam(learning_rate=0.001),\n",
    "             metrics = ['accuracy'])\n",
    "    with tf.device('/GPU:0'):\n",
    "        history = model.fit(\n",
    "            train_flow,\n",
    "            validation_data = valid_flow,\n",
    "            epochs = 100,\n",
    "            verbose=0,\n",
    "            callbacks = [es,reduce_lr]\n",
    "            )\n",
    "        eval = model.evaluate(valid_flow, verbose=0)\n",
    "        print(f'Accuracy of model {m} :     {eval[1]}')\n",
    "        results.append(eval[1])\n"
   ]
  },
  {
   "cell_type": "code",
   "execution_count": 35,
   "metadata": {},
   "outputs": [
    {
     "name": "stdout",
     "output_type": "stream",
     "text": [
      "Accuracy of model DenseNet201 : 0.7848101258277893\n",
      "Accuracy of model ResNet101 : 0.2278480976819992\n",
      "Accuracy of model ResNet152 : 0.13924050331115723\n",
      "Accuracy of model ResNet50 : 0.18987341225147247\n",
      "Accuracy of model VGG16 : 0.746835470199585\n",
      "Accuracy of model VGG19 : 0.6962025165557861\n",
      "Accuracy of model EfficientNetV2B0 : 0.06329113990068436\n",
      "Accuracy of model EfficientNetV2B1 : 0.050632912665605545\n",
      "Accuracy of model EfficientNetV2B2 : 0.06329113990068436\n",
      "Accuracy of model EfficientNetV2B3 : 0.06329113990068436\n",
      "Accuracy of model EfficientNetV2L : 0.08860759437084198\n",
      "Accuracy of model EfficientNetV2M : 0.050632912665605545\n",
      "Accuracy of model EfficientNetV2S : 0.08860759437084198\n"
     ]
    }
   ],
   "source": [
    "for i,m in enumerate([\"DenseNet201\",\"ResNet101\",\"ResNet152\",\"ResNet50\",\"VGG16\",\"VGG19\",\"EfficientNetV2B0\",\"EfficientNetV2B1\",\"EfficientNetV2B2\",\"EfficientNetV2B3\",\"EfficientNetV2L\",\"EfficientNetV2M\",\"EfficientNetV2S\"]):\n",
    "    print(f'Accuracy of model {m} : {results[i]}')"
   ]
  },
  {
   "cell_type": "markdown",
   "metadata": {},
   "source": [
    "#### The bests candidats are DenseNet201 and VGG16, we'll keep DensNet201 since it has the highest accuracy"
   ]
  },
  {
   "cell_type": "markdown",
   "metadata": {},
   "source": [
    "# Without data augment"
   ]
  },
  {
   "cell_type": "code",
   "execution_count": 36,
   "metadata": {},
   "outputs": [
    {
     "name": "stdout",
     "output_type": "stream",
     "text": [
      "Epoch 1/100\n",
      "12/12 - 15s - loss: 19.1482 - accuracy: 0.1348 - val_loss: 12.7337 - val_accuracy: 0.1899 - lr: 0.0010 - 15s/epoch - 1s/step\n",
      "Epoch 2/100\n",
      "12/12 - 2s - loss: 2.8992 - accuracy: 0.7547 - val_loss: 5.6891 - val_accuracy: 0.5696 - lr: 0.0010 - 2s/epoch - 153ms/step\n",
      "Epoch 3/100\n",
      "12/12 - 1s - loss: 0.3812 - accuracy: 0.9488 - val_loss: 4.9782 - val_accuracy: 0.5190 - lr: 0.0010 - 1s/epoch - 121ms/step\n",
      "Epoch 4/100\n",
      "12/12 - 2s - loss: 0.1089 - accuracy: 0.9704 - val_loss: 5.8504 - val_accuracy: 0.4557 - lr: 0.0010 - 2s/epoch - 126ms/step\n",
      "Epoch 5/100\n",
      "12/12 - 2s - loss: 0.0105 - accuracy: 0.9946 - val_loss: 4.7599 - val_accuracy: 0.6076 - lr: 0.0010 - 2s/epoch - 152ms/step\n",
      "Epoch 6/100\n",
      "12/12 - 2s - loss: 0.0023 - accuracy: 0.9973 - val_loss: 5.2190 - val_accuracy: 0.6203 - lr: 0.0010 - 2s/epoch - 149ms/step\n",
      "Epoch 7/100\n",
      "12/12 - 2s - loss: 0.0055 - accuracy: 0.9973 - val_loss: 5.3060 - val_accuracy: 0.6203 - lr: 0.0010 - 2s/epoch - 129ms/step\n",
      "Epoch 8/100\n",
      "12/12 - 1s - loss: 2.1071e-04 - accuracy: 1.0000 - val_loss: 5.2449 - val_accuracy: 0.5949 - lr: 0.0010 - 1s/epoch - 124ms/step\n",
      "Epoch 9/100\n",
      "12/12 - 1s - loss: 1.4999e-04 - accuracy: 1.0000 - val_loss: 5.1131 - val_accuracy: 0.6076 - lr: 0.0010 - 1s/epoch - 123ms/step\n",
      "Epoch 10/100\n",
      "12/12 - 1s - loss: 4.8956e-05 - accuracy: 1.0000 - val_loss: 5.0911 - val_accuracy: 0.6076 - lr: 2.0000e-04 - 1s/epoch - 124ms/step\n",
      "Epoch 11/100\n",
      "12/12 - 1s - loss: 1.6826e-04 - accuracy: 1.0000 - val_loss: 5.0832 - val_accuracy: 0.6076 - lr: 2.0000e-04 - 1s/epoch - 120ms/step\n",
      "Epoch 12/100\n",
      "12/12 - 1s - loss: 3.5970e-04 - accuracy: 1.0000 - val_loss: 5.0328 - val_accuracy: 0.6076 - lr: 2.0000e-04 - 1s/epoch - 125ms/step\n",
      "Epoch 13/100\n",
      "12/12 - 1s - loss: 8.9907e-05 - accuracy: 1.0000 - val_loss: 5.0231 - val_accuracy: 0.6076 - lr: 4.0000e-05 - 1s/epoch - 122ms/step\n",
      "Epoch 14/100\n",
      "12/12 - 1s - loss: 9.4607e-04 - accuracy: 1.0000 - val_loss: 5.0139 - val_accuracy: 0.6076 - lr: 4.0000e-05 - 1s/epoch - 123ms/step\n",
      "Epoch 15/100\n",
      "12/12 - 1s - loss: 2.0130e-05 - accuracy: 1.0000 - val_loss: 5.0089 - val_accuracy: 0.6076 - lr: 4.0000e-05 - 1s/epoch - 120ms/step\n",
      "Epoch 16/100\n",
      "12/12 - 2s - loss: 0.0010 - accuracy: 1.0000 - val_loss: 5.0092 - val_accuracy: 0.6076 - lr: 1.0000e-05 - 2s/epoch - 152ms/step\n"
     ]
    }
   ],
   "source": [
    "from tensorflow.keras.callbacks import EarlyStopping,ReduceLROnPlateau\n",
    "import tensorflow as tf\n",
    "from tensorflow.keras.optimizers import Adam\n",
    "\n",
    "model = create_model()\n",
    "model.compile(loss = 'sparse_categorical_crossentropy',\n",
    "             optimizer = Adam(learning_rate=0.001),\n",
    "             metrics = ['accuracy'])\n",
    "es = EarlyStopping(monitor = 'val_accuracy',\n",
    "                               patience = 10,\n",
    "                               mode = 'max',\n",
    "                               restore_best_weights = True)\n",
    "reduce_lr = ReduceLROnPlateau(monitor='val_accuracy', factor=0.2,\n",
    "                              patience=3,\n",
    "                              min_lr=0.00001)\n",
    "with tf.device('/GPU:0'):\n",
    "    history = model.fit(\n",
    "        X_train/255,\n",
    "        y_train,\n",
    "        validation_data = (X_test/255,y_test),\n",
    "        epochs = 100,\n",
    "        verbose=2,\n",
    "        callbacks = [es,reduce_lr]\n",
    "        )"
   ]
  },
  {
   "cell_type": "code",
   "execution_count": 37,
   "metadata": {},
   "outputs": [],
   "source": [
    "def plot_history(history, title='', axs=None, exp_name=\"\"):\n",
    "    if axs is not None:\n",
    "        ax1, ax2 = axs\n",
    "    else:\n",
    "        f, (ax1, ax2) = plt.subplots(1, 2, figsize=(12, 4))\n",
    "\n",
    "    if len(exp_name) > 0 and exp_name[0] != '_':\n",
    "        exp_name = '_' + exp_name\n",
    "    ax1.plot(history.history['loss'], label = 'train' + exp_name)\n",
    "    ax1.plot(history.history['val_loss'], label = 'val' + exp_name)\n",
    "    # ax1.set_ylim(0., 2.2)\n",
    "    ax1.set_title('loss')\n",
    "    ax1.legend()\n",
    "\n",
    "    ax2.plot(history.history['accuracy'], label='train accuracy'  + exp_name)\n",
    "    ax2.plot(history.history['val_accuracy'], label='val accuracy'  + exp_name)\n",
    "    # ax2.set_ylim(0.25, 1.)\n",
    "    ax2.set_title('Accuracy')\n",
    "    ax2.legend()\n",
    "    return (ax1, ax2)"
   ]
  },
  {
   "cell_type": "code",
   "execution_count": 38,
   "metadata": {},
   "outputs": [
    {
     "data": {
      "text/plain": [
       "(<AxesSubplot:title={'center':'loss'}>,\n",
       " <AxesSubplot:title={'center':'Accuracy'}>)"
      ]
     },
     "execution_count": 38,
     "metadata": {},
     "output_type": "execute_result"
    },
    {
     "data": {
      "image/png": "[encoded data removed]",
      "text/plain": [
       "<Figure size 1200x400 with 2 Axes>"
      ]
     },
     "metadata": {},
     "output_type": "display_data"
    }
   ],
   "source": [
    "plot_history(history, title='Without data augmentation', axs=None, exp_name=\"\")"
   ]
  },
  {
   "cell_type": "code",
   "execution_count": 39,
   "metadata": {},
   "outputs": [
    {
     "name": "stdout",
     "output_type": "stream",
     "text": [
      "79/79 [==============================] - 8s 65ms/step - loss: 5.2189 - accuracy: 0.6203\n"
     ]
    },
    {
     "data": {
      "text/plain": [
       "[5.218883037567139, 0.6202531456947327]"
      ]
     },
     "execution_count": 39,
     "metadata": {},
     "output_type": "execute_result"
    }
   ],
   "source": [
    "model.evaluate(valid_flow)"
   ]
  },
  {
   "cell_type": "markdown",
   "metadata": {},
   "source": [
    "# With data Augment"
   ]
  },
  {
   "cell_type": "code",
   "execution_count": 43,
   "metadata": {},
   "outputs": [
    {
     "name": "stdout",
     "output_type": "stream",
     "text": [
      "Epoch 1/100\n",
      "24/24 - 19s - loss: 15.9615 - accuracy: 0.2183 - val_loss: 7.1072 - val_accuracy: 0.4177 - lr: 0.0010 - 19s/epoch - 807ms/step\n",
      "Epoch 2/100\n",
      "24/24 - 8s - loss: 2.7298 - accuracy: 0.7089 - val_loss: 3.4398 - val_accuracy: 0.6582 - lr: 0.0010 - 8s/epoch - 322ms/step\n",
      "Epoch 3/100\n",
      "24/24 - 8s - loss: 0.8982 - accuracy: 0.8949 - val_loss: 5.3624 - val_accuracy: 0.5823 - lr: 0.0010 - 8s/epoch - 314ms/step\n",
      "Epoch 4/100\n",
      "24/24 - 7s - loss: 0.8592 - accuracy: 0.8895 - val_loss: 4.0418 - val_accuracy: 0.6076 - lr: 0.0010 - 7s/epoch - 307ms/step\n",
      "Epoch 5/100\n",
      "24/24 - 8s - loss: 0.7743 - accuracy: 0.8922 - val_loss: 4.6054 - val_accuracy: 0.6709 - lr: 0.0010 - 8s/epoch - 321ms/step\n",
      "Epoch 6/100\n",
      "24/24 - 8s - loss: 0.5109 - accuracy: 0.9353 - val_loss: 4.1439 - val_accuracy: 0.6962 - lr: 0.0010 - 8s/epoch - 323ms/step\n",
      "Epoch 7/100\n",
      "24/24 - 7s - loss: 0.5183 - accuracy: 0.9272 - val_loss: 4.7268 - val_accuracy: 0.5190 - lr: 0.0010 - 7s/epoch - 309ms/step\n",
      "Epoch 8/100\n",
      "24/24 - 7s - loss: 0.6188 - accuracy: 0.9245 - val_loss: 5.4584 - val_accuracy: 0.6835 - lr: 0.0010 - 7s/epoch - 305ms/step\n",
      "Epoch 9/100\n",
      "24/24 - 8s - loss: 0.3387 - accuracy: 0.9623 - val_loss: 5.4367 - val_accuracy: 0.6076 - lr: 0.0010 - 8s/epoch - 316ms/step\n",
      "Epoch 10/100\n",
      "24/24 - 7s - loss: 0.3964 - accuracy: 0.9515 - val_loss: 3.7611 - val_accuracy: 0.6962 - lr: 2.0000e-04 - 7s/epoch - 300ms/step\n",
      "Epoch 11/100\n",
      "24/24 - 8s - loss: 0.0284 - accuracy: 0.9892 - val_loss: 3.3064 - val_accuracy: 0.7215 - lr: 2.0000e-04 - 8s/epoch - 317ms/step\n",
      "Epoch 12/100\n",
      "24/24 - 8s - loss: 0.0520 - accuracy: 0.9919 - val_loss: 3.3339 - val_accuracy: 0.7595 - lr: 2.0000e-04 - 8s/epoch - 320ms/step\n",
      "Epoch 13/100\n",
      "24/24 - 7s - loss: 0.1298 - accuracy: 0.9811 - val_loss: 3.1592 - val_accuracy: 0.7342 - lr: 2.0000e-04 - 7s/epoch - 290ms/step\n",
      "Epoch 14/100\n",
      "24/24 - 7s - loss: 0.0184 - accuracy: 0.9973 - val_loss: 2.7348 - val_accuracy: 0.7468 - lr: 2.0000e-04 - 7s/epoch - 302ms/step\n",
      "Epoch 15/100\n",
      "24/24 - 7s - loss: 0.0272 - accuracy: 0.9919 - val_loss: 2.4697 - val_accuracy: 0.7848 - lr: 2.0000e-04 - 7s/epoch - 307ms/step\n",
      "Epoch 16/100\n",
      "24/24 - 8s - loss: 0.0305 - accuracy: 0.9919 - val_loss: 2.4884 - val_accuracy: 0.7848 - lr: 2.0000e-04 - 8s/epoch - 315ms/step\n",
      "Epoch 17/100\n",
      "24/24 - 8s - loss: 0.0012 - accuracy: 1.0000 - val_loss: 2.5466 - val_accuracy: 0.7848 - lr: 2.0000e-04 - 8s/epoch - 325ms/step\n",
      "Epoch 18/100\n",
      "24/24 - 7s - loss: 0.0373 - accuracy: 0.9919 - val_loss: 2.6317 - val_accuracy: 0.7468 - lr: 2.0000e-04 - 7s/epoch - 307ms/step\n",
      "Epoch 19/100\n",
      "24/24 - 7s - loss: 0.0262 - accuracy: 0.9919 - val_loss: 2.6228 - val_accuracy: 0.7468 - lr: 4.0000e-05 - 7s/epoch - 299ms/step\n",
      "Epoch 20/100\n",
      "24/24 - 7s - loss: 0.0068 - accuracy: 0.9973 - val_loss: 2.6170 - val_accuracy: 0.7468 - lr: 4.0000e-05 - 7s/epoch - 298ms/step\n",
      "Epoch 21/100\n",
      "24/24 - 7s - loss: 0.0457 - accuracy: 0.9919 - val_loss: 2.6342 - val_accuracy: 0.7468 - lr: 4.0000e-05 - 7s/epoch - 294ms/step\n",
      "Epoch 22/100\n",
      "24/24 - 7s - loss: 3.5099e-05 - accuracy: 1.0000 - val_loss: 2.6291 - val_accuracy: 0.7468 - lr: 1.0000e-05 - 7s/epoch - 289ms/step\n",
      "Epoch 23/100\n",
      "24/24 - 8s - loss: 0.0209 - accuracy: 0.9946 - val_loss: 2.6168 - val_accuracy: 0.7468 - lr: 1.0000e-05 - 8s/epoch - 315ms/step\n",
      "Epoch 24/100\n",
      "24/24 - 7s - loss: 7.6387e-04 - accuracy: 1.0000 - val_loss: 2.6141 - val_accuracy: 0.7468 - lr: 1.0000e-05 - 7s/epoch - 310ms/step\n",
      "Epoch 25/100\n",
      "24/24 - 8s - loss: 0.0160 - accuracy: 0.9946 - val_loss: 2.6112 - val_accuracy: 0.7468 - lr: 1.0000e-05 - 8s/epoch - 315ms/step\n"
     ]
    }
   ],
   "source": [
    "model = create_model()\n",
    "model.compile(loss = 'sparse_categorical_crossentropy',\n",
    "             optimizer = Adam(learning_rate=0.001),\n",
    "             metrics = ['accuracy'])\n",
    "es = EarlyStopping(monitor = 'val_accuracy',\n",
    "                               patience = 10,\n",
    "                               mode = 'max',\n",
    "                               restore_best_weights = True)\n",
    "reduce_lr = ReduceLROnPlateau(monitor='val_accuracy', factor=0.2,\n",
    "                              patience=3,\n",
    "                              min_lr=0.00001)\n",
    "with tf.device('/GPU:0'):\n",
    "    history = model.fit(\n",
    "        train_flow,\n",
    "        validation_data = valid_flow,\n",
    "        epochs = 100,\n",
    "        verbose=2,\n",
    "        callbacks = [es,reduce_lr]\n",
    "        )"
   ]
  },
  {
   "cell_type": "code",
   "execution_count": 46,
   "metadata": {},
   "outputs": [
    {
     "name": "stdout",
     "output_type": "stream",
     "text": [
      "79/79 [==============================] - 5s 64ms/step - loss: 2.4697 - accuracy: 0.7848\n"
     ]
    },
    {
     "data": {
      "text/plain": [
       "[2.4697375297546387, 0.7848101258277893]"
      ]
     },
     "execution_count": 46,
     "metadata": {},
     "output_type": "execute_result"
    }
   ],
   "source": [
    "model.evaluate(valid_flow)"
   ]
  },
  {
   "cell_type": "code",
   "execution_count": 47,
   "metadata": {},
   "outputs": [
    {
     "data": {
      "text/plain": [
       "(<AxesSubplot:title={'center':'loss'}>,\n",
       " <AxesSubplot:title={'center':'Accuracy'}>)"
      ]
     },
     "execution_count": 47,
     "metadata": {},
     "output_type": "execute_result"
    },
    {
     "data": {
      "image/png": "[encoded data removed]",
      "text/plain": [
       "<Figure size 1200x400 with 2 Axes>"
      ]
     },
     "metadata": {},
     "output_type": "display_data"
    }
   ],
   "source": [
    "plot_history(history, title='With data augmentation', axs=None, exp_name=\"\")"
   ]
  },
  {
   "cell_type": "markdown",
   "metadata": {},
   "source": [
    "### Without any surprise, Data augmentation is clearly a winner here. It increases our accuracy by around 20%"
   ]
  }
 ],
 "metadata": {
  "kernelspec": {
   "display_name": "lewagon",
   "language": "python",
   "name": "python3"
  },
  "language_info": {
   "codemirror_mode": {
    "name": "ipython",
    "version": 3
   },
   "file_extension": ".py",
   "mimetype": "text/x-python",
   "name": "python",
   "nbconvert_exporter": "python",
   "pygments_lexer": "ipython3",
   "version": "3.10.6"
  }
 },
 "nbformat": 4,
 "nbformat_minor": 2
}
